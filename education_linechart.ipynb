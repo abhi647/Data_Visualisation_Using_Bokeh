{
 "cells": [
  {
   "cell_type": "code",
   "execution_count": 7,
   "metadata": {},
   "outputs": [],
   "source": [
    "#Making a basic Bokeh line graph\n",
    "\n",
    "#importing bokeh and pandas\n",
    "from bokeh.plotting import figure\n",
    "from bokeh.io import output_file, show\n",
    "import pandas\n",
    "\n",
    "#prepare some data\n",
    "df = pandas.read_csv(\"bachelors.csv\")\n",
    "\n",
    "x = df[\"Year\"]\n",
    "y = df[\"Engineering\"]\n",
    "\n",
    "#prepare the output file\n",
    "output_file(\"line_chart\")\n",
    "\n",
    "#create a figure object\n",
    "f = figure()\n",
    "\n",
    "#create line plot\n",
    "f.line(x,y)\n",
    "\n",
    "#write the plot in the figure object\n",
    "show(f)\n",
    "\n",
    "\n"
   ]
  },
  {
   "cell_type": "code",
   "execution_count": 2,
   "metadata": {},
   "outputs": [
    {
     "name": "stdout",
     "output_type": "stream",
     "text": [
      "<class 'pandas.core.frame.DataFrame'>\n",
      "RangeIndex: 42 entries, 0 to 41\n",
      "Data columns (total 18 columns):\n",
      " #   Column                         Non-Null Count  Dtype  \n",
      "---  ------                         --------------  -----  \n",
      " 0   Year                           42 non-null     int64  \n",
      " 1   Agriculture                    42 non-null     float64\n",
      " 2   Architecture                   42 non-null     float64\n",
      " 3   Art and Performance            42 non-null     float64\n",
      " 4   Biology                        42 non-null     float64\n",
      " 5   Business                       42 non-null     float64\n",
      " 6   Communications and Journalism  42 non-null     float64\n",
      " 7   Computer Science               42 non-null     float64\n",
      " 8   Education                      42 non-null     float64\n",
      " 9   Engineering                    42 non-null     float64\n",
      " 10  English                        42 non-null     float64\n",
      " 11  Foreign Languages              42 non-null     float64\n",
      " 12  Health Professions             42 non-null     float64\n",
      " 13  Math and Statistics            42 non-null     float64\n",
      " 14  Physical Sciences              42 non-null     float64\n",
      " 15  Psychology                     42 non-null     float64\n",
      " 16  Public Administration          42 non-null     float64\n",
      " 17  Social Sciences and History    42 non-null     float64\n",
      "dtypes: float64(17), int64(1)\n",
      "memory usage: 6.0 KB\n"
     ]
    }
   ],
   "source": [
    "df.info()"
   ]
  },
  {
   "cell_type": "code",
   "execution_count": null,
   "metadata": {},
   "outputs": [],
   "source": []
  }
 ],
 "metadata": {
  "kernelspec": {
   "display_name": "Python 3",
   "language": "python",
   "name": "python3"
  },
  "language_info": {
   "codemirror_mode": {
    "name": "ipython",
    "version": 3
   },
   "file_extension": ".py",
   "mimetype": "text/x-python",
   "name": "python",
   "nbconvert_exporter": "python",
   "pygments_lexer": "ipython3",
   "version": "3.7.6"
  }
 },
 "nbformat": 4,
 "nbformat_minor": 4
}
